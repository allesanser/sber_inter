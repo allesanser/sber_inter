{
 "cells": [
  {
   "cell_type": "code",
   "execution_count": 109,
   "id": "0a342088-9bf0-45f3-898a-84981b71f530",
   "metadata": {},
   "outputs": [],
   "source": [
    "import pandas as pd\n",
    "import re\n",
    "from sklearn.model_selection import train_test_split\n",
    "import pickle\n",
    "from pymystem3 import Mystem\n",
    "from sklearn.svm import SVC\n",
    "\n",
    "\n",
    "from sklearn.pipeline import Pipeline\n",
    "from sklearn.feature_extraction.text import TfidfVectorizer\n",
    "from sklearn.multiclass import OneVsRestClassifier\n",
    "from sklearn.naive_bayes import MultinomialNB\n",
    "from sklearn.metrics import accuracy_score\n",
    "from sklearn.metrics import confusion_matrix\n",
    "\n",
    "from sklearn.feature_extraction.text import CountVectorizer\n",
    "from pymystem3 import Mystem"
   ]
  },
  {
   "cell_type": "code",
   "execution_count": 110,
   "id": "8f8751bb-02e5-4c14-8711-8db5d4e4aaa8",
   "metadata": {},
   "outputs": [
    {
     "data": {
      "text/html": [
       "<div>\n",
       "<style scoped>\n",
       "    .dataframe tbody tr th:only-of-type {\n",
       "        vertical-align: middle;\n",
       "    }\n",
       "\n",
       "    .dataframe tbody tr th {\n",
       "        vertical-align: top;\n",
       "    }\n",
       "\n",
       "    .dataframe thead th {\n",
       "        text-align: right;\n",
       "    }\n",
       "</style>\n",
       "<table border=\"1\" class=\"dataframe\">\n",
       "  <thead>\n",
       "    <tr style=\"text-align: right;\">\n",
       "      <th></th>\n",
       "      <th>0</th>\n",
       "      <th>1</th>\n",
       "    </tr>\n",
       "  </thead>\n",
       "  <tbody>\n",
       "    <tr>\n",
       "      <th>0</th>\n",
       "      <td>Какая ставка на новое жильё?</td>\n",
       "      <td>0</td>\n",
       "    </tr>\n",
       "    <tr>\n",
       "      <th>1</th>\n",
       "      <td>Какая ставка на новую квартиру?</td>\n",
       "      <td>0</td>\n",
       "    </tr>\n",
       "    <tr>\n",
       "      <th>2</th>\n",
       "      <td>Подскажи ставку на новое жилье</td>\n",
       "      <td>0</td>\n",
       "    </tr>\n",
       "    <tr>\n",
       "      <th>3</th>\n",
       "      <td>Подскажи ставку на новую квартиру</td>\n",
       "      <td>0</td>\n",
       "    </tr>\n",
       "    <tr>\n",
       "      <th>4</th>\n",
       "      <td>Новое жилье, ставка</td>\n",
       "      <td>0</td>\n",
       "    </tr>\n",
       "    <tr>\n",
       "      <th>...</th>\n",
       "      <td>...</td>\n",
       "      <td>...</td>\n",
       "    </tr>\n",
       "    <tr>\n",
       "      <th>71</th>\n",
       "      <td>Расскажи про военную ипотеку</td>\n",
       "      <td>12</td>\n",
       "    </tr>\n",
       "    <tr>\n",
       "      <th>72</th>\n",
       "      <td>Военная ипотека</td>\n",
       "      <td>12</td>\n",
       "    </tr>\n",
       "    <tr>\n",
       "      <th>73</th>\n",
       "      <td>ипотека для военных</td>\n",
       "      <td>12</td>\n",
       "    </tr>\n",
       "    <tr>\n",
       "      <th>74</th>\n",
       "      <td>ипотека военнослужащим</td>\n",
       "      <td>12</td>\n",
       "    </tr>\n",
       "    <tr>\n",
       "      <th>75</th>\n",
       "      <td>военная ипотека</td>\n",
       "      <td>12</td>\n",
       "    </tr>\n",
       "  </tbody>\n",
       "</table>\n",
       "<p>76 rows × 2 columns</p>\n",
       "</div>"
      ],
      "text/plain": [
       "                                    0   1\n",
       "0        Какая ставка на новое жильё?   0\n",
       "1     Какая ставка на новую квартиру?   0\n",
       "2      Подскажи ставку на новое жилье   0\n",
       "3   Подскажи ставку на новую квартиру   0\n",
       "4                 Новое жилье, ставка   0\n",
       "..                                ...  ..\n",
       "71       Расскажи про военную ипотеку  12\n",
       "72                    Военная ипотека  12\n",
       "73                ипотека для военных  12\n",
       "74             ипотека военнослужащим  12\n",
       "75                    военная ипотека  12\n",
       "\n",
       "[76 rows x 2 columns]"
      ]
     },
     "execution_count": 110,
     "metadata": {},
     "output_type": "execute_result"
    }
   ],
   "source": [
    "# загрузка данных\n",
    "\n",
    "\n",
    "data = pd.read_csv(\"questions.csv\", header=None)\n",
    "data"
   ]
  },
  {
   "cell_type": "code",
   "execution_count": 111,
   "id": "168579e7-52e9-4e1c-955e-9d22b4582e22",
   "metadata": {},
   "outputs": [
    {
     "data": {
      "text/plain": [
       "array([ 0,  1,  2,  3,  4,  5,  6,  7,  8,  9, 10, 11, 12])"
      ]
     },
     "execution_count": 111,
     "metadata": {},
     "output_type": "execute_result"
    }
   ],
   "source": [
    "data[1].unique()"
   ]
  },
  {
   "cell_type": "code",
   "execution_count": 112,
   "id": "c0ea89bb-f1a3-4336-a21c-60770806c09e",
   "metadata": {},
   "outputs": [
    {
     "data": {
      "image/png": "[encoded data removed]",
      "text/plain": [
       "<Figure size 432x288 with 1 Axes>"
      ]
     },
     "metadata": {
      "needs_background": "light"
     },
     "output_type": "display_data"
    }
   ],
   "source": [
    "# для простоты я создал равномерно распределенные\n",
    "# данные\n",
    "\n",
    "h = data[1].hist(bins=25)\n",
    "fig = h.get_figure()"
   ]
  },
  {
   "cell_type": "code",
   "execution_count": 113,
   "id": "bf681b83-cb26-4b5d-8180-4b34739e1b1c",
   "metadata": {},
   "outputs": [],
   "source": [
    "# В целом, можно было добиться неплохого результата\n",
    "# только на одних регулярных выражениях :)\n",
    "\n",
    "def clean_text(text):\n",
    "        text = text.lower()\n",
    "        text = re.sub('\\s+', ' ', text)\n",
    "        text = re.sub(r'[^\\w\\s]', ' ', text)\n",
    "        text = re.sub('пожалуйста', '', text)\n",
    "        text = re.sub('какая', '', text)\n",
    "        text = re.sub('какой', '', text)\n",
    "        text = re.sub('подскажи', '', text)\n",
    "        text = re.sub('расскажи', '', text)\n",
    "        text = re.sub('скажи', '', text)\n",
    "        text = re.sub('квартиру', '', text)\n",
    "        text = re.sub('квартира', '', text)\n",
    "        text = re.sub('жилье', '', text)\n",
    "        text = re.sub('жильё', '', text)\n",
    "        text = re.sub(' на ', ' ', text)\n",
    "        text = re.sub(' за ', ' ', text)\n",
    "        text = re.sub('первичный', ' ', text)\n",
    "        text = re.sub('первичного', ' ', text)\n",
    "        text = re.sub('ипотеку', ' ', text)\n",
    "        text = re.sub('ипотека', ' ', text)\n",
    "        text = re.sub('б у', 'вторичка', text)\n",
    "\n",
    "        text = text.strip(' ')\n",
    "\n",
    "        return text"
   ]
  },
  {
   "cell_type": "code",
   "execution_count": 114,
   "id": "3469370a-cd54-4057-8863-32c5d85f1ef1",
   "metadata": {},
   "outputs": [
    {
     "data": {
      "text/html": [
       "<div>\n",
       "<style scoped>\n",
       "    .dataframe tbody tr th:only-of-type {\n",
       "        vertical-align: middle;\n",
       "    }\n",
       "\n",
       "    .dataframe tbody tr th {\n",
       "        vertical-align: top;\n",
       "    }\n",
       "\n",
       "    .dataframe thead th {\n",
       "        text-align: right;\n",
       "    }\n",
       "</style>\n",
       "<table border=\"1\" class=\"dataframe\">\n",
       "  <thead>\n",
       "    <tr style=\"text-align: right;\">\n",
       "      <th></th>\n",
       "      <th>0</th>\n",
       "      <th>1</th>\n",
       "    </tr>\n",
       "  </thead>\n",
       "  <tbody>\n",
       "    <tr>\n",
       "      <th>18</th>\n",
       "      <td>ставку вторичку</td>\n",
       "      <td>2</td>\n",
       "    </tr>\n",
       "    <tr>\n",
       "      <th>19</th>\n",
       "      <td>ставку вторичка</td>\n",
       "      <td>2</td>\n",
       "    </tr>\n",
       "    <tr>\n",
       "      <th>20</th>\n",
       "      <td>вторичное   ставка</td>\n",
       "      <td>2</td>\n",
       "    </tr>\n",
       "    <tr>\n",
       "      <th>21</th>\n",
       "      <td>ставку вторичка</td>\n",
       "      <td>2</td>\n",
       "    </tr>\n",
       "    <tr>\n",
       "      <th>22</th>\n",
       "      <td>размер   взноса вторичное</td>\n",
       "      <td>3</td>\n",
       "    </tr>\n",
       "    <tr>\n",
       "      <th>23</th>\n",
       "      <td>вторичка  взнос</td>\n",
       "      <td>3</td>\n",
       "    </tr>\n",
       "    <tr>\n",
       "      <th>24</th>\n",
       "      <td>взнос бу</td>\n",
       "      <td>3</td>\n",
       "    </tr>\n",
       "    <tr>\n",
       "      <th>25</th>\n",
       "      <td>взнос   вторичку</td>\n",
       "      <td>3</td>\n",
       "    </tr>\n",
       "    <tr>\n",
       "      <th>26</th>\n",
       "      <td>взнос   бу</td>\n",
       "      <td>3</td>\n",
       "    </tr>\n",
       "    <tr>\n",
       "      <th>27</th>\n",
       "      <td>взнос вторичка</td>\n",
       "      <td>3</td>\n",
       "    </tr>\n",
       "    <tr>\n",
       "      <th>28</th>\n",
       "      <td>ставка и взнос новое</td>\n",
       "      <td>4</td>\n",
       "    </tr>\n",
       "    <tr>\n",
       "      <th>29</th>\n",
       "      <td>ставка и взнос новое</td>\n",
       "      <td>4</td>\n",
       "    </tr>\n",
       "  </tbody>\n",
       "</table>\n",
       "</div>"
      ],
      "text/plain": [
       "                            0  1\n",
       "18            ставку вторичку  2\n",
       "19            ставку вторичка  2\n",
       "20         вторичное   ставка  2\n",
       "21            ставку вторичка  2\n",
       "22  размер   взноса вторичное  3\n",
       "23            вторичка  взнос  3\n",
       "24                   взнос бу  3\n",
       "25           взнос   вторичку  3\n",
       "26                 взнос   бу  3\n",
       "27             взнос вторичка  3\n",
       "28       ставка и взнос новое  4\n",
       "29       ставка и взнос новое  4"
      ]
     },
     "execution_count": 114,
     "metadata": {},
     "output_type": "execute_result"
    }
   ],
   "source": [
    "data[0] = data[0].map(lambda com : clean_text(com))\n",
    "data[18:30]"
   ]
  },
  {
   "cell_type": "code",
   "execution_count": 115,
   "id": "79c13bc9-1677-45cb-ba3d-53cecc941b2b",
   "metadata": {},
   "outputs": [],
   "source": [
    "# лемматизация\n",
    "\n",
    "m = Mystem()\n",
    "\n",
    "def diction_form(text):\n",
    "        text = ''.join(m.lemmatize(text)).rstrip('\\n')\n",
    "        return text"
   ]
  },
  {
   "cell_type": "code",
   "execution_count": 116,
   "id": "7fbde939-a508-4fc5-9ac9-6d85a47e3b90",
   "metadata": {},
   "outputs": [],
   "source": [
    "data[0] = data[0].map(lambda com : diction_form(com))"
   ]
  },
  {
   "cell_type": "code",
   "execution_count": 117,
   "id": "eaede53d-cb5b-483f-9971-241f11af9357",
   "metadata": {},
   "outputs": [],
   "source": [
    "# разбиваем выборку\n",
    "\n",
    "x_data = data[0]\n",
    "y_data = data[1]\n",
    "\n",
    "X_train, X_test, y_train, y_test = train_test_split(x_data,\n",
    "                                                    y_data,\n",
    "                                                    test_size=0.33,\n",
    "                                                    random_state=42,\n",
    "                                                    stratify=y_data)"
   ]
  },
  {
   "cell_type": "code",
   "execution_count": 118,
   "id": "f02dda35-c551-47a6-8108-998560e4a09c",
   "metadata": {},
   "outputs": [
    {
     "data": {
      "image/png": "[encoded data removed]",
      "text/plain": [
       "<Figure size 432x288 with 1 Axes>"
      ]
     },
     "metadata": {
      "needs_background": "light"
     },
     "output_type": "display_data"
    }
   ],
   "source": [
    "h = y_test.hist(bins=25)\n",
    "fig = h.get_figure()"
   ]
  },
  {
   "cell_type": "code",
   "execution_count": 97,
   "id": "947dda8b-2de5-4b9f-9952-6158e0c327ca",
   "metadata": {},
   "outputs": [],
   "source": [
    "categories = data[1].unique()"
   ]
  },
  {
   "cell_type": "code",
   "execution_count": 98,
   "id": "599c39f1-17cf-4c6d-8218-27d7c3f07f7a",
   "metadata": {},
   "outputs": [
    {
     "data": {
      "text/html": [
       "<div>\n",
       "<style scoped>\n",
       "    .dataframe tbody tr th:only-of-type {\n",
       "        vertical-align: middle;\n",
       "    }\n",
       "\n",
       "    .dataframe tbody tr th {\n",
       "        vertical-align: top;\n",
       "    }\n",
       "\n",
       "    .dataframe thead th {\n",
       "        text-align: right;\n",
       "    }\n",
       "</style>\n",
       "<table border=\"1\" class=\"dataframe\">\n",
       "  <thead>\n",
       "    <tr style=\"text-align: right;\">\n",
       "      <th></th>\n",
       "      <th>0</th>\n",
       "      <th>1</th>\n",
       "    </tr>\n",
       "  </thead>\n",
       "  <tbody>\n",
       "    <tr>\n",
       "      <th>18</th>\n",
       "      <td>ставка вторичка</td>\n",
       "      <td>2</td>\n",
       "    </tr>\n",
       "    <tr>\n",
       "      <th>19</th>\n",
       "      <td>ставка вторичка</td>\n",
       "      <td>2</td>\n",
       "    </tr>\n",
       "    <tr>\n",
       "      <th>20</th>\n",
       "      <td>вторичный   ставка</td>\n",
       "      <td>2</td>\n",
       "    </tr>\n",
       "    <tr>\n",
       "      <th>21</th>\n",
       "      <td>ставка вторичка</td>\n",
       "      <td>2</td>\n",
       "    </tr>\n",
       "    <tr>\n",
       "      <th>22</th>\n",
       "      <td>размер   взнос вторичный</td>\n",
       "      <td>3</td>\n",
       "    </tr>\n",
       "    <tr>\n",
       "      <th>23</th>\n",
       "      <td>вторичка  взнос</td>\n",
       "      <td>3</td>\n",
       "    </tr>\n",
       "    <tr>\n",
       "      <th>24</th>\n",
       "      <td>взнос бу</td>\n",
       "      <td>3</td>\n",
       "    </tr>\n",
       "    <tr>\n",
       "      <th>25</th>\n",
       "      <td>взнос   вторичка</td>\n",
       "      <td>3</td>\n",
       "    </tr>\n",
       "    <tr>\n",
       "      <th>26</th>\n",
       "      <td>взнос   бу</td>\n",
       "      <td>3</td>\n",
       "    </tr>\n",
       "    <tr>\n",
       "      <th>27</th>\n",
       "      <td>взнос вторичка</td>\n",
       "      <td>3</td>\n",
       "    </tr>\n",
       "    <tr>\n",
       "      <th>28</th>\n",
       "      <td>ставка и взнос новый</td>\n",
       "      <td>4</td>\n",
       "    </tr>\n",
       "    <tr>\n",
       "      <th>29</th>\n",
       "      <td>ставка и взнос новый</td>\n",
       "      <td>4</td>\n",
       "    </tr>\n",
       "  </tbody>\n",
       "</table>\n",
       "</div>"
      ],
      "text/plain": [
       "                           0  1\n",
       "18           ставка вторичка  2\n",
       "19           ставка вторичка  2\n",
       "20        вторичный   ставка  2\n",
       "21           ставка вторичка  2\n",
       "22  размер   взнос вторичный  3\n",
       "23           вторичка  взнос  3\n",
       "24                  взнос бу  3\n",
       "25          взнос   вторичка  3\n",
       "26                взнос   бу  3\n",
       "27            взнос вторичка  3\n",
       "28      ставка и взнос новый  4\n",
       "29      ставка и взнос новый  4"
      ]
     },
     "execution_count": 98,
     "metadata": {},
     "output_type": "execute_result"
    }
   ],
   "source": [
    "data[18:30]"
   ]
  },
  {
   "cell_type": "code",
   "execution_count": 99,
   "id": "ca58789a-a6b0-4f67-a1a2-fdc904ec0003",
   "metadata": {},
   "outputs": [
    {
     "name": "stdout",
     "output_type": "stream",
     "text": [
      "... Processing 0\n",
      "Test accuracy is 0.8076923076923077\n",
      "... Processing 1\n",
      "Test accuracy is 0.8076923076923077\n",
      "... Processing 2\n",
      "Test accuracy is 0.8076923076923077\n",
      "... Processing 3\n",
      "Test accuracy is 0.8076923076923077\n",
      "... Processing 4\n",
      "Test accuracy is 0.8076923076923077\n",
      "... Processing 5\n",
      "Test accuracy is 0.8076923076923077\n",
      "... Processing 6\n",
      "Test accuracy is 0.8076923076923077\n",
      "... Processing 7\n",
      "Test accuracy is 0.8076923076923077\n",
      "... Processing 8\n",
      "Test accuracy is 0.8076923076923077\n",
      "... Processing 9\n",
      "Test accuracy is 0.8076923076923077\n",
      "... Processing 10\n",
      "Test accuracy is 0.8076923076923077\n",
      "... Processing 11\n",
      "Test accuracy is 0.8076923076923077\n",
      "... Processing 12\n",
      "Test accuracy is 0.8076923076923077\n"
     ]
    }
   ],
   "source": [
    "# Define a pipeline combining a text feature extractor with multi lable classifier\n",
    "NB_pipeline = Pipeline([\n",
    "                # ('vect', CountVectorizer()),\n",
    "                ('tfidf', CountVectorizer()),\n",
    "                ('clf', OneVsRestClassifier(MultinomialNB(\n",
    "                    fit_prior=True, class_prior=None))),\n",
    "            ])\n",
    "\n",
    "\n",
    "for category in categories:\n",
    "    print('... Processing {}'.format(category))\n",
    "    # train the model using X_dtm & y\n",
    "    NB_pipeline.fit(X_train, y_train)\n",
    "    # compute the testing accuracy\n",
    "    prediction = NB_pipeline.predict(X_test)\n",
    "    print('Test accuracy is {}'.format(accuracy_score(y_test, prediction)))\n",
    "    \n",
    "    \n",
    "# 0.4230769230769231 CountVectorizer()"
   ]
  },
  {
   "cell_type": "code",
   "execution_count": 77,
   "id": "aaf24fba-c1ca-4f49-8c99-7f21bdb8a4fb",
   "metadata": {},
   "outputs": [
    {
     "data": {
      "text/plain": [
       "array([1])"
      ]
     },
     "execution_count": 77,
     "metadata": {},
     "output_type": "execute_result"
    }
   ],
   "source": [
    "NB_pipeline.predict(['подскажи ставку за новую квартиру'])"
   ]
  },
  {
   "cell_type": "code",
   "execution_count": 107,
   "id": "2e8fd006-23c2-449f-a2b8-e525c9aac12f",
   "metadata": {},
   "outputs": [
    {
     "name": "stdout",
     "output_type": "stream",
     "text": [
      "... Processing 0\n",
      "Test accuracy is 0.8076923076923077\n",
      "... Processing 1\n",
      "Test accuracy is 0.8076923076923077\n",
      "... Processing 2\n",
      "Test accuracy is 0.8076923076923077\n",
      "... Processing 3\n",
      "Test accuracy is 0.8076923076923077\n",
      "... Processing 4\n",
      "Test accuracy is 0.8076923076923077\n",
      "... Processing 5\n",
      "Test accuracy is 0.8076923076923077\n",
      "... Processing 6\n",
      "Test accuracy is 0.8076923076923077\n",
      "... Processing 7\n",
      "Test accuracy is 0.8076923076923077\n",
      "... Processing 8\n",
      "Test accuracy is 0.8076923076923077\n",
      "... Processing 9\n",
      "Test accuracy is 0.8076923076923077\n",
      "... Processing 10\n",
      "Test accuracy is 0.8076923076923077\n",
      "... Processing 11\n",
      "Test accuracy is 0.8076923076923077\n",
      "... Processing 12\n",
      "Test accuracy is 0.8076923076923077\n"
     ]
    },
    {
     "data": {
      "text/plain": [
       "array([[2, 0, 0, 0, 0, 0, 0, 0, 0, 0, 0, 0, 0],\n",
       "       [0, 2, 0, 1, 0, 0, 0, 0, 0, 0, 0, 0, 0],\n",
       "       [0, 0, 2, 0, 0, 0, 0, 0, 0, 0, 0, 0, 0],\n",
       "       [0, 0, 0, 2, 0, 0, 0, 0, 0, 0, 0, 0, 0],\n",
       "       [0, 0, 0, 0, 1, 0, 0, 0, 0, 0, 0, 0, 0],\n",
       "       [0, 0, 0, 0, 0, 2, 0, 0, 0, 0, 0, 0, 0],\n",
       "       [0, 0, 0, 0, 0, 0, 2, 0, 0, 0, 0, 0, 0],\n",
       "       [0, 0, 0, 0, 0, 0, 0, 2, 0, 0, 0, 0, 0],\n",
       "       [0, 0, 0, 0, 0, 0, 0, 0, 2, 0, 0, 0, 0],\n",
       "       [0, 0, 0, 0, 0, 0, 0, 0, 0, 1, 0, 0, 1],\n",
       "       [0, 0, 0, 0, 0, 0, 0, 0, 0, 0, 2, 0, 0],\n",
       "       [0, 0, 0, 0, 0, 0, 0, 0, 2, 0, 0, 0, 0],\n",
       "       [0, 0, 0, 0, 0, 0, 0, 1, 0, 0, 0, 0, 1]])"
      ]
     },
     "execution_count": 107,
     "metadata": {},
     "output_type": "execute_result"
    }
   ],
   "source": [
    "SVC_pipeline = Pipeline([\n",
    "                # ('vect', CountVectorizer()),\n",
    "                ('tfidf', CountVectorizer()),\n",
    "                ('clf', OneVsRestClassifier(SVC(kernel='linear'), n_jobs=1)),\n",
    "            ])\n",
    "\n",
    "for category in categories:\n",
    "    print('... Processing {}'.format(category))\n",
    "    # train the model using X_dtm & y\n",
    "    SVC_pipeline.fit(X_train, y_train)\n",
    "    # compute the testing accuracy\n",
    "    prediction = SVC_pipeline.predict(X_test)\n",
    "    print('Test accuracy is {}'.format(accuracy_score(y_test, prediction)))\n",
    "    \n",
    "    \n",
    "# LinearSVC 0.57\n",
    "\n",
    "confusion_matrix(y_test, prediction)"
   ]
  },
  {
   "cell_type": "code",
   "execution_count": 56,
   "id": "b6036dbb-4aad-49ca-a597-4749d5cb3ee1",
   "metadata": {},
   "outputs": [],
   "source": [
    "filename = 'SVC_model.sav'\n",
    "pickle.dump(SVC_pipeline, open(filename, 'wb'))"
   ]
  },
  {
   "cell_type": "code",
   "execution_count": 57,
   "id": "84883c83-b51f-4a12-88e4-e1410cdcb190",
   "metadata": {},
   "outputs": [
    {
     "name": "stdout",
     "output_type": "stream",
     "text": [
      "... Processing 0\n",
      "Test accuracy is 0.8076923076923077\n",
      "... Processing 1\n",
      "Test accuracy is 0.8076923076923077\n",
      "... Processing 2\n",
      "Test accuracy is 0.8076923076923077\n",
      "... Processing 3\n",
      "Test accuracy is 0.8076923076923077\n",
      "... Processing 4\n",
      "Test accuracy is 0.8076923076923077\n",
      "... Processing 5\n",
      "Test accuracy is 0.8076923076923077\n",
      "... Processing 6\n",
      "Test accuracy is 0.8076923076923077\n",
      "... Processing 7\n",
      "Test accuracy is 0.8076923076923077\n",
      "... Processing 8\n",
      "Test accuracy is 0.8076923076923077\n",
      "... Processing 9\n",
      "Test accuracy is 0.8076923076923077\n",
      "... Processing 10\n",
      "Test accuracy is 0.8076923076923077\n",
      "... Processing 11\n",
      "Test accuracy is 0.8076923076923077\n",
      "... Processing 12\n",
      "Test accuracy is 0.8076923076923077\n"
     ]
    }
   ],
   "source": [
    "from sklearn.linear_model import LogisticRegression\n",
    "\n",
    "LogReg_pipeline = Pipeline([\n",
    "                ('tfidf', CountVectorizer()),\n",
    "                ('clf', OneVsRestClassifier(LogisticRegression(penalty='l2',solver='liblinear'), n_jobs=1)),\n",
    "            ])\n",
    "\n",
    "\n",
    "for category in categories:\n",
    "    print('... Processing {}'.format(category))\n",
    "    # train the model using X_dtm & y\n",
    "    LogReg_pipeline.fit(X_train, y_train)\n",
    "    # compute the testing accuracy\n",
    "    prediction = LogReg_pipeline.predict(X_test)\n",
    "    print('Test accuracy is {}'.format(accuracy_score(y_test, prediction)))\n",
    "    \n",
    "    \n",
    "# CountVectorizer() на 11 процентов точнее"
   ]
  },
  {
   "cell_type": "code",
   "execution_count": 128,
   "id": "ebd99817-7baf-41a1-9658-a1add48920dd",
   "metadata": {},
   "outputs": [
    {
     "name": "stdout",
     "output_type": "stream",
     "text": [
      "... Processing 0\n",
      "Test accuracy is 0.8461538461538461\n",
      "... Processing 1\n",
      "Test accuracy is 0.8461538461538461\n",
      "... Processing 2\n",
      "Test accuracy is 0.8461538461538461\n",
      "... Processing 3\n",
      "Test accuracy is 0.8461538461538461\n",
      "... Processing 4\n",
      "Test accuracy is 0.8461538461538461\n",
      "... Processing 5\n",
      "Test accuracy is 0.8461538461538461\n",
      "... Processing 6\n",
      "Test accuracy is 0.8461538461538461\n",
      "... Processing 7\n",
      "Test accuracy is 0.8461538461538461\n",
      "... Processing 8\n",
      "Test accuracy is 0.8461538461538461\n",
      "... Processing 9\n",
      "Test accuracy is 0.8461538461538461\n",
      "... Processing 10\n",
      "Test accuracy is 0.8461538461538461\n",
      "... Processing 11\n",
      "Test accuracy is 0.8461538461538461\n",
      "... Processing 12\n",
      "Test accuracy is 0.8461538461538461\n"
     ]
    },
    {
     "data": {
      "text/plain": [
       "array([[2, 0, 0, 0, 0, 0, 0, 0, 0, 0, 0, 0, 0],\n",
       "       [0, 2, 0, 1, 0, 0, 0, 0, 0, 0, 0, 0, 0],\n",
       "       [0, 0, 2, 0, 0, 0, 0, 0, 0, 0, 0, 0, 0],\n",
       "       [0, 0, 0, 2, 0, 0, 0, 0, 0, 0, 0, 0, 0],\n",
       "       [0, 0, 0, 0, 1, 0, 0, 0, 0, 0, 0, 0, 0],\n",
       "       [0, 0, 0, 0, 0, 2, 0, 0, 0, 0, 0, 0, 0],\n",
       "       [0, 0, 0, 0, 0, 0, 2, 0, 0, 0, 0, 0, 0],\n",
       "       [0, 0, 0, 0, 0, 0, 0, 2, 0, 0, 0, 0, 0],\n",
       "       [0, 0, 0, 0, 0, 0, 0, 0, 2, 0, 0, 0, 0],\n",
       "       [0, 0, 0, 0, 0, 0, 0, 0, 0, 1, 0, 0, 1],\n",
       "       [0, 0, 0, 0, 0, 0, 0, 0, 0, 0, 2, 0, 0],\n",
       "       [0, 0, 0, 0, 0, 0, 0, 0, 2, 0, 0, 0, 0],\n",
       "       [0, 0, 0, 0, 0, 0, 0, 0, 0, 0, 0, 0, 2]])"
      ]
     },
     "execution_count": 128,
     "metadata": {},
     "output_type": "execute_result"
    }
   ],
   "source": [
    "from sklearn.ensemble import RandomForestClassifier\n",
    "\n",
    "Tree_pipeline = Pipeline([\n",
    "                ('tfidf', CountVectorizer()),\n",
    "                ('clf', OneVsRestClassifier(RandomForestClassifier(\n",
    "                    n_estimators=50,\n",
    "                    criterion='entropy',\n",
    "                    max_depth=10, \n",
    "                    random_state=0), n_jobs=1)),\n",
    "\n",
    "\n",
    "            ])\n",
    "\n",
    "for category in categories:\n",
    "    print('... Processing {}'.format(category))\n",
    "    # train the model using X_dtm & y\n",
    "    Tree_pipeline.fit(X_train, y_train)\n",
    "    # compute the testing accuracy\n",
    "    prediction = Tree_pipeline.predict(X_test)\n",
    "    print('Test accuracy is {}'.format(accuracy_score(y_test, prediction)))\n",
    "    \n",
    "confusion_matrix(y_test, prediction)"
   ]
  },
  {
   "cell_type": "code",
   "execution_count": 129,
   "id": "fa16367f-ca25-41b6-83f6-77855f43b92c",
   "metadata": {},
   "outputs": [
    {
     "data": {
      "text/plain": [
       "11               новый   взнос\n",
       "49                про   для it\n",
       "53             для разработчик\n",
       "57     паспорт и военный билет\n",
       "43        быть ребенок инвалид\n",
       "44        про   с господдержка\n",
       "69                 для молодой\n",
       "35     ставка и взнос вторичка\n",
       "19             ставка вторичка\n",
       "40     информация про семейный\n",
       "10          новостройка  взнос\n",
       "71                 про военный\n",
       "54       про   по два документ\n",
       "46       поддержка государство\n",
       "60         про дальневосточный\n",
       "74              военнослужащий\n",
       "4               новый   ставка\n",
       "33    ставка и взнос вторичный\n",
       "26                  взнос   бу\n",
       "61             дальневосточный\n",
       "70      для восемнадцатилетний\n",
       "23             вторичка  взнос\n",
       "17            ставка вторичный\n",
       "30        ставка и взнос новый\n",
       "14               взнос   новый\n",
       "6                 ставка новый\n",
       "Name: 0, dtype: object"
      ]
     },
     "execution_count": 129,
     "metadata": {},
     "output_type": "execute_result"
    }
   ],
   "source": [
    "X_test"
   ]
  },
  {
   "cell_type": "code",
   "execution_count": null,
   "id": "54674e85-0a0b-47aa-8add-81117a9cd7d5",
   "metadata": {},
   "outputs": [],
   "source": []
  },
  {
   "cell_type": "code",
   "execution_count": 130,
   "id": "f4d89c18-820b-425a-b85a-c87e8158f38b",
   "metadata": {},
   "outputs": [],
   "source": [
    "filename = 'forest_model.sav'\n",
    "pickle.dump(Tree_pipeline, open(filename, 'wb'))"
   ]
  },
  {
   "cell_type": "code",
   "execution_count": null,
   "id": "cc67ced6-ff4c-4b03-8b1d-fc56e874d0b8",
   "metadata": {},
   "outputs": [],
   "source": [
    " "
   ]
  }
 ],
 "metadata": {
  "kernelspec": {
   "display_name": "Python 3 (ipykernel)",
   "language": "python",
   "name": "python3"
  },
  "language_info": {
   "codemirror_mode": {
    "name": "ipython",
    "version": 3
   },
   "file_extension": ".py",
   "mimetype": "text/x-python",
   "name": "python",
   "nbconvert_exporter": "python",
   "pygments_lexer": "ipython3",
   "version": "3.8.10"
  }
 },
 "nbformat": 4,
 "nbformat_minor": 5
}
